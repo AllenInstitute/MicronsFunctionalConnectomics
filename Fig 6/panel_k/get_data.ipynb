{
 "cells": [
  {
   "cell_type": "code",
   "execution_count": 1,
   "id": "b05536bf-1b32-4087-8ac9-244d20953999",
   "metadata": {},
   "outputs": [],
   "source": [
    "import numpy as np\n",
    "import pandas as pd\n",
    "from scipy.interpolate import interp1d\n",
    "from caveclient import CAVEclient\n",
    "import datajoint as dj"
   ]
  },
  {
   "cell_type": "markdown",
   "id": "7db9c86c-51a7-4ed8-b51f-df763568aa35",
   "metadata": {},
   "source": [
    "# initialize data sources"
   ]
  },
  {
   "cell_type": "code",
   "execution_count": 2,
   "id": "c174faf4-7728-4968-84e2-c818b428265d",
   "metadata": {},
   "outputs": [],
   "source": [
    "client = CAVEclient('minnie65_phase3_v1')\n",
    "client.materialize.version = 1181"
   ]
  },
  {
   "cell_type": "code",
   "execution_count": 3,
   "id": "1476f30c-d16e-4eca-9e7f-6e1fa9b464d1",
   "metadata": {},
   "outputs": [],
   "source": [
    "%%capture\n",
    "nda = dj.create_virtual_module('nda', 'microns_phase3_nda')"
   ]
  },
  {
   "cell_type": "markdown",
   "id": "2a64717f-f0d7-425e-be92-d53f249482a5",
   "metadata": {},
   "source": [
    "# get tables"
   ]
  },
  {
   "cell_type": "code",
   "execution_count": 4,
   "id": "d02dc1a9-4d47-4d3f-893a-fa1886ab7d60",
   "metadata": {},
   "outputs": [],
   "source": [
    "nuc_df = client.materialize.query_table('nucleus_detection_v0').rename(columns={'id': 'nucleus_id'})\n",
    "coreg_df = client.materialize.query_table('coregistration_manual_v4').rename(columns={'target_id': 'nucleus_id'})"
   ]
  },
  {
   "cell_type": "code",
   "execution_count": 5,
   "id": "bbdd370f-5cb7-4d6a-8ddc-633855442ad0",
   "metadata": {},
   "outputs": [],
   "source": [
    "oracle_df = pd.read_pickle('oracle_scores.pkl') # code to make this in Fig 3 panel f notebook"
   ]
  },
  {
   "cell_type": "markdown",
   "id": "01b010c5-b260-402b-876a-2c195f7ba19f",
   "metadata": {},
   "source": [
    "# get presyn"
   ]
  },
  {
   "cell_type": "code",
   "execution_count": 6,
   "id": "c31c63df-6790-4fb1-bb25-638adeb10f8a",
   "metadata": {},
   "outputs": [],
   "source": [
    "pre_nucleus_id = 294657"
   ]
  },
  {
   "cell_type": "code",
   "execution_count": 7,
   "id": "65f866c4-70d7-4988-8610-d60957ab391f",
   "metadata": {},
   "outputs": [],
   "source": [
    "pre_df = nuc_df.query(f'nucleus_id=={pre_nucleus_id}')[['nucleus_id', 'pt_root_id']]"
   ]
  },
  {
   "cell_type": "code",
   "execution_count": 8,
   "id": "e6b3d4ff-5bf9-49ad-afee-42d2c093e014",
   "metadata": {},
   "outputs": [],
   "source": [
    "pre_root_id = nuc_df.query(f'nucleus_id=={pre_nucleus_id}').pt_root_id.values[0]"
   ]
  },
  {
   "cell_type": "markdown",
   "id": "f880a235-d286-4e4c-85a0-091469cba2d4",
   "metadata": {},
   "source": [
    "# get postsyns"
   ]
  },
  {
   "cell_type": "code",
   "execution_count": 9,
   "id": "b61296d9-cc68-4930-ad76-21a28440a79a",
   "metadata": {},
   "outputs": [],
   "source": [
    "post_syn_df = client.materialize.query_table(\n",
    "    'synapses_pni_2',\n",
    "    filter_equal_dict={'pre_pt_root_id': pre_root_id}\n",
    ").query(\n",
    "    'pre_pt_root_id!=post_pt_root_id'\n",
    ")\n",
    "\n",
    "post_syn_nuc_df = post_syn_df.merge(\n",
    "    nuc_df.rename(columns={'nucleus_id': 'post_nucleus_id'}),\n",
    "    left_on='post_pt_root_id',\n",
    "    right_on='pt_root_id'\n",
    ")[['pre_pt_root_id', 'post_pt_root_id', 'size', 'post_nucleus_id']]\n",
    "\n",
    "post_df = post_syn_nuc_df.groupby('post_nucleus_id', as_index=False)['size'].sum().rename(columns={'post_nucleus_id': 'nucleus_id', 'size': 'summed_size'})"
   ]
  },
  {
   "cell_type": "markdown",
   "id": "eebb701c-4e4e-4114-9413-2fe2621c2c71",
   "metadata": {},
   "source": [
    "# match to functional data"
   ]
  },
  {
   "cell_type": "code",
   "execution_count": 10,
   "id": "efcfcd8e-1f40-4198-9891-92f80a86d03b",
   "metadata": {},
   "outputs": [],
   "source": [
    "pre_func_df = pre_df.merge(coreg_df)[['nucleus_id', 'session', 'scan_idx', 'unit_id']].merge(oracle_df)"
   ]
  },
  {
   "cell_type": "code",
   "execution_count": 11,
   "id": "9c6cd7b0-e464-4d81-bb28-06a06281ec3e",
   "metadata": {},
   "outputs": [],
   "source": [
    "post_func_df = post_df.merge(coreg_df)[['nucleus_id', 'session', 'scan_idx', 'unit_id', 'summed_size']].merge(oracle_df)\n",
    "post_func_df = post_func_df.sort_values('oracle_score', ascending=False).drop_duplicates('nucleus_id')  # get scan with highest oracle score\n",
    "post_func_df = post_func_df.sort_values('summed_size', ascending=False) # sort by largest synapse size"
   ]
  },
  {
   "cell_type": "markdown",
   "id": "1fd9468a-5cc1-4319-8582-d7969f2f15e2",
   "metadata": {},
   "source": [
    "# get oracle traces"
   ]
  },
  {
   "cell_type": "code",
   "execution_count": 12,
   "id": "ac7da8b7-4e46-4699-86e6-f9159aa6bf55",
   "metadata": {},
   "outputs": [],
   "source": [
    "def fetch_trial_average_oracle_raster(unit_key, desired_fps=None, average_over_repeats=True, normalize_traces=True):\n",
    "    \"\"\"Fetches the responses of the provided unit to the oracle trials\n",
    "    Args:\n",
    "        unit_key      (dict):        dictionary to uniquely identify a functional unit (must contain the keys: \"session\", \"scan_idx\", \"unit_id\") \n",
    "        \n",
    "    Returns:\n",
    "        oracle_score (float):        \n",
    "        responses    (array):        array of oracle responses interpolated to scan frequency: 10 repeats x 6 oracle clips x f response frames\n",
    "    \"\"\"\n",
    "    if desired_fps is None:\n",
    "        fps = (nda.Scan & unit_key).fetch1('fps')  # get frame rate of scan\n",
    "    else:\n",
    "        fps = desired_fps\n",
    "\n",
    "    oracle_rel = (dj.U('condition_hash').aggr(nda.Trial & unit_key, n='count(*)', m='min(trial_idx)') & 'n=10')  # get oracle clips\n",
    "    oracle_hashes = oracle_rel.fetch('KEY', order_by='m ASC')  # get oracle clip hashes sorted temporally\n",
    "\n",
    "    frame_times_set = []\n",
    "    # iterate over oracle repeats (10 repeats)\n",
    "    for first_clip in (nda.Trial & oracle_hashes[0] & unit_key).fetch('trial_idx'): \n",
    "        trial_block_rel = (nda.Trial & unit_key & f'trial_idx >= {first_clip} and trial_idx < {first_clip+6}')  # uses the trial_idx of the first clip to grab subsequent 5 clips (trial_block) \n",
    "        start_times, end_times = trial_block_rel.fetch('start_frame_time', 'end_frame_time', order_by='condition_hash DESC')  # grabs start time and end time of each clip in trial_block and orders by condition_hash to maintain order across scans\n",
    "        frame_times = [np.linspace(s, e , np.round(fps * (e - s)).astype(int)) for s, e in zip(start_times, end_times)]  # generate time vector between start and end times according to frame rate of scan\n",
    "        frame_times_set.append(frame_times)\n",
    "\n",
    "    trace, fts, delay = ((nda.Activity & unit_key) * nda.ScanTimes * nda.ScanUnit).fetch1('trace', 'frame_times', 'ms_delay')  # fetch trace delay and frame times for interpolation\n",
    "    f2a = interp1d(fts + delay/1000, trace)  # create trace interpolator with unit specific time delay\n",
    "    oracle_traces = np.array([f2a(ft) for ft in frame_times_set])  # interpolate oracle times to match the activity trace\n",
    "    if average_over_repeats:\n",
    "        oracle_traces = oracle_traces.mean(0)\n",
    "    if normalize_traces:\n",
    "        oracle_traces -= np.min(oracle_traces, axis=(0,1), keepdims=True)\n",
    "        oracle_traces /= np.max(oracle_traces, axis=(0,1), keepdims=True)\n",
    "    oracle_score = (nda.Oracle & unit_key).fetch1('pearson') # fetch oracle score\n",
    "    return oracle_traces, oracle_score, frame_times_set"
   ]
  },
  {
   "cell_type": "code",
   "execution_count": 13,
   "id": "7432a82e-bd29-4ac0-b466-bfda576687ec",
   "metadata": {},
   "outputs": [],
   "source": [
    "pre_unit_key = pre_func_df[['session', 'scan_idx', 'unit_id']].to_dict(orient='records')[0]"
   ]
  },
  {
   "cell_type": "code",
   "execution_count": 14,
   "id": "9061541e-45f5-474e-b952-1760ab8a00ab",
   "metadata": {},
   "outputs": [],
   "source": [
    "post_unit_keys = post_func_df[['session', 'scan_idx', 'unit_id']].to_dict(orient='records')"
   ]
  },
  {
   "cell_type": "code",
   "execution_count": 15,
   "id": "f9caaae7-70db-4bb2-bb22-d789e0e9788d",
   "metadata": {},
   "outputs": [],
   "source": [
    "pre_trace, _, _ = fetch_trial_average_oracle_raster(pre_unit_key, desired_fps=6.3)"
   ]
  },
  {
   "cell_type": "code",
   "execution_count": 16,
   "id": "1cbcc904-5764-49c5-9362-5ac06bf56387",
   "metadata": {},
   "outputs": [],
   "source": [
    "post_traces = []\n",
    "for k in post_unit_keys:\n",
    "    t, _, _ = fetch_trial_average_oracle_raster(k, desired_fps=6.3)\n",
    "    post_traces.append(t)\n",
    "post_traces = np.stack(post_traces)"
   ]
  },
  {
   "cell_type": "markdown",
   "id": "4efd9dc6-5dbd-4d83-aeda-70e1c188641a",
   "metadata": {},
   "source": [
    "# save files"
   ]
  },
  {
   "cell_type": "code",
   "execution_count": 17,
   "id": "eb2115c1-83e9-4c2f-9302-6fca17ea0ba4",
   "metadata": {},
   "outputs": [],
   "source": [
    "pre_func_df.to_pickle('pre_df.pkl')"
   ]
  },
  {
   "cell_type": "code",
   "execution_count": 18,
   "id": "7023ebb4-c16b-4938-87e5-3d65d0b145cf",
   "metadata": {},
   "outputs": [],
   "source": [
    "post_func_df.to_pickle('post_df.pkl')"
   ]
  },
  {
   "cell_type": "code",
   "execution_count": 19,
   "id": "8c526ea5-e54f-45c8-a99a-cd284c398a11",
   "metadata": {},
   "outputs": [],
   "source": [
    "np.save('pre_trace.npy', pre_trace)"
   ]
  },
  {
   "cell_type": "code",
   "execution_count": 20,
   "id": "960ed85e-47b3-4f92-8720-83eb11eabc33",
   "metadata": {},
   "outputs": [],
   "source": [
    "np.save('post_traces.npy', post_traces)"
   ]
  }
 ],
 "metadata": {
  "kernelspec": {
   "display_name": "Python 3 (ipykernel)",
   "language": "python",
   "name": "python3"
  },
  "language_info": {
   "codemirror_mode": {
    "name": "ipython",
    "version": 3
   },
   "file_extension": ".py",
   "mimetype": "text/x-python",
   "name": "python",
   "nbconvert_exporter": "python",
   "pygments_lexer": "ipython3",
   "version": "3.8.18"
  }
 },
 "nbformat": 4,
 "nbformat_minor": 5
}
