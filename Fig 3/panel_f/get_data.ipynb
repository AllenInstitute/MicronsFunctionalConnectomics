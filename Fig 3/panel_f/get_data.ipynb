{
 "cells": [
  {
   "cell_type": "code",
   "execution_count": 1,
   "id": "66b06007-e020-4243-aaac-e86f96067af4",
   "metadata": {},
   "outputs": [],
   "source": [
    "import numpy as np\n",
    "from scipy.interpolate import interp1d\n",
    "import pandas as pd"
   ]
  },
  {
   "cell_type": "code",
   "execution_count": 2,
   "id": "e9a7f351-df4f-47f2-97fe-db75e1073e11",
   "metadata": {},
   "outputs": [],
   "source": [
    "%%capture\n",
    "import datajoint as dj\n",
    "nda = dj.create_virtual_module('nda', 'microns_phase3_nda')"
   ]
  },
  {
   "cell_type": "markdown",
   "id": "b9d93705-1fe8-45e5-b3fd-70ba325049c6",
   "metadata": {},
   "source": [
    "# get oracle scores"
   ]
  },
  {
   "cell_type": "code",
   "execution_count": 3,
   "id": "b264f18f-bd99-4391-8b81-cc06acfe5e8d",
   "metadata": {},
   "outputs": [],
   "source": [
    "oracle_rel = nda.ScanUnit() * nda.Oracle() & nda.ScanInclude()\n",
    "oracle_df = pd.DataFrame(oracle_rel.proj(oracle_score='pearson').fetch())\n",
    "oracle_df['oracle_decile'] = pd.qcut(oracle_df['oracle_score'], q=10, labels=np.arange(10))"
   ]
  },
  {
   "cell_type": "markdown",
   "id": "083292b3-fdfc-49bc-9f2e-ab75d26656fc",
   "metadata": {},
   "source": [
    "# save 1000 oracle traces"
   ]
  },
  {
   "cell_type": "code",
   "execution_count": 4,
   "id": "2e64309d-bc3c-4801-b02a-31ab5565339d",
   "metadata": {},
   "outputs": [],
   "source": [
    "def fetch_trial_average_oracle_raster(unit_key, desired_fps=None, average_over_repeats=True, normalize_traces=True):\n",
    "    \"\"\"Fetches the responses of the provided unit to the oracle trials\n",
    "    Args:\n",
    "        unit_key      (dict):        dictionary to uniquely identify a functional unit (must contain the keys: \"session\", \"scan_idx\", \"unit_id\") \n",
    "        \n",
    "    Returns:\n",
    "        oracle_score (float):        \n",
    "        responses    (array):        array of oracle responses interpolated to scan frequency: 10 repeats x 6 oracle clips x f response frames\n",
    "    \"\"\"\n",
    "    if desired_fps is None:\n",
    "        fps = (nda.Scan & unit_key).fetch1('fps')  # get frame rate of scan\n",
    "    else:\n",
    "        fps = desired_fps\n",
    "\n",
    "    oracle_rel = (dj.U('condition_hash').aggr(nda.Trial & unit_key, n='count(*)', m='min(trial_idx)') & 'n=10')  # get oracle clips\n",
    "    oracle_hashes = oracle_rel.fetch('KEY', order_by='m ASC')  # get oracle clip hashes sorted temporally\n",
    "\n",
    "    frame_times_set = []\n",
    "    # iterate over oracle repeats (10 repeats)\n",
    "    for first_clip in (nda.Trial & oracle_hashes[0] & unit_key).fetch('trial_idx'): \n",
    "        trial_block_rel = (nda.Trial & unit_key & f'trial_idx >= {first_clip} and trial_idx < {first_clip+6}')  # uses the trial_idx of the first clip to grab subsequent 5 clips (trial_block) \n",
    "        start_times, end_times = trial_block_rel.fetch('start_frame_time', 'end_frame_time', order_by='condition_hash DESC')  # grabs start time and end time of each clip in trial_block and orders by condition_hash to maintain order across scans\n",
    "        frame_times = [np.linspace(s, e , np.round(fps * (e - s)).astype(int)) for s, e in zip(start_times, end_times)]  # generate time vector between start and end times according to frame rate of scan\n",
    "        frame_times_set.append(frame_times)\n",
    "\n",
    "    trace, fts, delay = ((nda.Activity & unit_key) * nda.ScanTimes * nda.ScanUnit).fetch1('trace', 'frame_times', 'ms_delay')  # fetch trace delay and frame times for interpolation\n",
    "    f2a = interp1d(fts + delay/1000, trace)  # create trace interpolator with unit specific time delay\n",
    "    oracle_traces = np.array([f2a(ft) for ft in frame_times_set])  # interpolate oracle times to match the activity trace\n",
    "    if average_over_repeats:\n",
    "        oracle_traces = oracle_traces.mean(0)\n",
    "    if normalize_traces:\n",
    "        oracle_traces -= np.min(oracle_traces, axis=(0,1), keepdims=True)\n",
    "        oracle_traces /= np.max(oracle_traces, axis=(0,1), keepdims=True)\n",
    "    oracle_score = (nda.Oracle & unit_key).fetch1('pearson') # fetch oracle score\n",
    "    return oracle_traces, oracle_score, frame_times_set"
   ]
  },
  {
   "cell_type": "code",
   "execution_count": 5,
   "id": "51b6b96d-a75d-4084-983d-397c4837f54f",
   "metadata": {},
   "outputs": [],
   "source": [
    "sub_dfs = []\n",
    "for i in range(10):\n",
    "    sub_df = oracle_df.query('oracle_decile == @i').sample(100, random_state=99)\n",
    "    sub_df['oracle_trace'] = sub_df.apply(lambda r: fetch_trial_average_oracle_raster(\n",
    "        {'session': r.session, 'scan_idx': r.scan_idx, 'unit_id': r.unit_id},\n",
    "        average_over_repeats=False,\n",
    "        normalize_traces=False\n",
    "    )[0], axis=1)\n",
    "    sub_dfs.append(sub_df)\n",
    "oracle_traces_df = pd.concat(sub_dfs).sort_values('oracle_score')"
   ]
  },
  {
   "cell_type": "markdown",
   "id": "84abde02-5614-4577-92b8-70b8e01ce1cf",
   "metadata": {},
   "source": [
    "# save files"
   ]
  },
  {
   "cell_type": "code",
   "execution_count": 6,
   "id": "98df0894-740f-470d-b1d0-46ebb2e95603",
   "metadata": {},
   "outputs": [],
   "source": [
    "oracle_df = pd.read_pickle('oracle_scores.pkl')"
   ]
  },
  {
   "cell_type": "code",
   "execution_count": 7,
   "id": "420a649c-5bcb-43e8-bc74-ede7eb040ac9",
   "metadata": {},
   "outputs": [],
   "source": [
    "oracle_traces_df.to_pickle('oracle_traces.pkl')"
   ]
  }
 ],
 "metadata": {
  "kernelspec": {
   "display_name": "Python 3 (ipykernel)",
   "language": "python",
   "name": "python3"
  },
  "language_info": {
   "codemirror_mode": {
    "name": "ipython",
    "version": 3
   },
   "file_extension": ".py",
   "mimetype": "text/x-python",
   "name": "python",
   "nbconvert_exporter": "python",
   "pygments_lexer": "ipython3",
   "version": "3.8.18"
  }
 },
 "nbformat": 4,
 "nbformat_minor": 5
}
